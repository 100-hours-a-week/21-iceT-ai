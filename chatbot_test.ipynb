{
 "cells": [
  {
   "cell_type": "code",
   "execution_count": 29,
   "id": "1df8943b",
   "metadata": {},
   "outputs": [
    {
     "name": "stdout",
     "output_type": "stream",
     "text": [
      "✅ 피드백 생성 결과:\n",
      "{'title': '반복문 개선', 'good': ['코드 구조가 간결합니다.', '인덱스를 직접 사용하여 요소에 접근합니다.'], 'bad': ['변수 이름 `arr`이 명확하지 않습니다.', '리스트의 길이를 미리 계산하는 것은 불필요합니다.'], 'improved_code': 'for element in arr:\\n    print(element)'}\n"
     ]
    }
   ],
   "source": [
    "import requests\n",
    "\n",
    "API_BASE = \"http://localhost:8000\"\n",
    "session_id = \"test-full-feedback-001\"\n",
    "\n",
    "# 1️⃣ /feedback: 코드 피드백 생성\n",
    "feedback_req = {\n",
    "    \"title\": \"반복문 개선\",\n",
    "    \"description\": \"리스트 순회\",\n",
    "    \"input_rule\": \"정수 리스트가 주어진다\",\n",
    "    \"output_rule\": \"모든 요소를 출력한다\",\n",
    "    \"sample_input\": \"1 2 3\",\n",
    "    \"sample_output\": \"1\\n2\\n3\",\n",
    "    \"code_language\": \"python\",\n",
    "    \"code\": \"for i in range(len(arr)):\\n    print(arr[i])\"\n",
    "}\n",
    "\n",
    "response = requests.post(f\"{API_BASE}/api/ai/v2/feedback\", json=feedback_req)\n",
    "assert response.status_code == 200\n",
    "feedback_data = response.json()\n",
    "\n",
    "print(\"✅ 피드백 생성 결과:\")\n",
    "print(feedback_data)"
   ]
  },
  {
   "cell_type": "code",
   "execution_count": 30,
   "id": "ff590a4e",
   "metadata": {},
   "outputs": [],
   "source": [
    "import requests\n",
    "\n",
    "API_BASE = \"http://localhost:8000\"\n",
    "session_id = \"demo-feedback-session-001\"\n",
    "history = []\n",
    "\n",
    "# 1️⃣ 코드 피드백 생성\n",
    "def start_feedback(code: str, title=\"제목 없음\"):\n",
    "    feedback_req = {\n",
    "        \"title\": title,\n",
    "        \"description\": \"리스트 순회\",\n",
    "        \"input_rule\": \"정수 리스트가 주어진다\",\n",
    "        \"output_rule\": \"모든 요소를 출력한다\",\n",
    "        \"sample_input\": \"1 2 3\",\n",
    "        \"sample_output\": \"1\\n2\\n3\",\n",
    "        \"code_language\": \"python\",\n",
    "        \"code\": code\n",
    "    }\n",
    "    r = requests.post(f\"{API_BASE}/api/ai/v2/feedback\", json=feedback_req)\n",
    "    r.raise_for_status()\n",
    "    res = r.json()\n",
    "    print(\"✅ 첫 피드백:\")\n",
    "    print(\"🎯 제목:\", res[\"title\"])\n",
    "    print(\"👍 잘한 점:\", res[\"good\"])\n",
    "    print(\"⚠️ 아쉬운 점:\", res[\"bad\"])\n",
    "    print(\"💡 개선 코드:\\n\", res[\"improved_code\"])\n",
    "    history.append({\"role\": \"assistant\", \"content\": str(res)})\n",
    "    return res\n",
    "\n",
    "# 2️⃣ 챗봇 대화\n",
    "def chat_feedback(user_message: str):\n",
    "    history.append({\"role\": \"user\", \"content\": user_message})\n",
    "    r = requests.post(f\"{API_BASE}/api/ai/v2/feedback/chat\", json={\n",
    "        \"session_id\": session_id,\n",
    "        \"messages\": history\n",
    "    })\n",
    "    r.raise_for_status()\n",
    "    res = r.json()[\"answer\"]\n",
    "    print(\"🤖 AI:\", res)\n",
    "    history.append({\"role\": \"assistant\", \"content\": res})\n",
    "    return res\n"
   ]
  },
  {
   "cell_type": "code",
   "execution_count": 31,
   "id": "a9188d23",
   "metadata": {},
   "outputs": [
    {
     "name": "stdout",
     "output_type": "stream",
     "text": [
      "✅ 첫 피드백:\n",
      "🎯 제목: 제목 없음\n",
      "👍 잘한 점: ['코드 구조가 간결합니다.', '입력 처리를 적절히 했습니다.']\n",
      "⚠️ 아쉬운 점: ['인덱스를 사용하여 직접 접근하는 것은 권장되지 않습니다.', '변수 이름이 명확하지 않습니다.']\n",
      "💡 개선 코드:\n",
      " arr = [int(x) for x in input().split()]\n",
      "for element in arr:\n",
      "    print(element)\n",
      "🤖 AI: 네, 이 코드를 더 파이썬스럽게 바꿀 수 있습니다. 다음과 같이 수정할 수 있습니다:\n",
      "\n",
      "```python\n",
      "numbers = list(map(int, input().split()))\n",
      "for number in numbers:\n",
      "    print(number)\n",
      "```\n",
      "\n",
      "이렇게 하면 `map` 함수와 `list` 함수를 사용하여 입력을 한 줄로 받고 리스트로 변환할 수 있으며, 변수명도 더 명확해졌습니다.\n",
      "🤖 AI: 물론입니다! `list comprehension`을 사용하면 다음과 같이 코드를 단축시킬 수 있습니다:\n",
      "\n",
      "```python\n",
      "[print(int(x)) for x in input().split()]\n",
      "```\n",
      "\n",
      "이 코드는 한 줄로 모든 작업을 수행하며, 가독성이 높아집니다.\n"
     ]
    },
    {
     "data": {
      "text/plain": [
       "'물론입니다! `list comprehension`을 사용하면 다음과 같이 코드를 단축시킬 수 있습니다:\\n\\n```python\\n[print(int(x)) for x in input().split()]\\n```\\n\\n이 코드는 한 줄로 모든 작업을 수행하며, 가독성이 높아집니다.'"
      ]
     },
     "execution_count": 31,
     "metadata": {},
     "output_type": "execute_result"
    }
   ],
   "source": [
    "res = start_feedback(\"for i in range(len(arr)):\\n    print(arr[i])\")\n",
    "chat_feedback(\"이 코드를 더 파이썬스럽게 바꿀 수 있을까?\")\n",
    "chat_feedback(\"그럼 list comprehension으로 바꾸면 어떻게 돼?\")"
   ]
  },
  {
   "cell_type": "code",
   "execution_count": 36,
   "id": "53c6eb95",
   "metadata": {},
   "outputs": [],
   "source": [
    "import requests\n",
    "\n",
    "API_BASE = \"http://localhost:8000\"\n",
    "session_id = \"interview-session-001\"\n",
    "messages = []\n",
    "\n",
    "# 1️⃣ 면접 시작\n",
    "def start_interview():\n",
    "    req = {\n",
    "        \"title\": \"반복문 출력 문제\",\n",
    "        \"number\": 1,\n",
    "        \"description\": \"정수 리스트를 순회하며 값을 출력하는 문제입니다.\",\n",
    "        \"input_rule\": \"정수 리스트가 주어진다\",\n",
    "        \"output_rule\": \"각 줄마다 하나씩 정수를 출력한다\",\n",
    "        \"sample_input\": \"1 2 3\",\n",
    "        \"sample_output\": \"1\\n2\\n3\",\n",
    "        \"code\": \"for i in range(len(arr)):\\n    print(arr[i])\",\n",
    "        \"code_language\": \"python\"\n",
    "    }\n",
    "    r = requests.post(f\"{API_BASE}/api/ai/v2/interview/start\", json=req)\n",
    "    r.raise_for_status()\n",
    "    q = r.json()[\"question\"]\n",
    "    print(\"🎤 첫 질문:\", q)\n",
    "    messages.append({\"role\": \"assistant\", \"content\": q})\n",
    "\n",
    "# 2️⃣ 후속 질문 요청\n",
    "def followup(answer):\n",
    "    messages.append({\"role\": \"user\", \"content\": answer})\n",
    "    r = requests.post(f\"{API_BASE}/api/ai/v2/interview/answer\", json={\n",
    "        \"session_id\": session_id,\n",
    "        \"messages\": messages\n",
    "    })\n",
    "    r.raise_for_status()\n",
    "    q = r.json()[\"question\"]\n",
    "    print(\"🎯 후속 질문:\", q)\n",
    "    messages.append({\"role\": \"assistant\", \"content\": q})\n",
    "\n",
    "# 3️⃣ 인터뷰 종료 후 총평\n",
    "def end_interview():\n",
    "    r = requests.post(f\"{API_BASE}/api/ai/v2/interview/end\", json={\n",
    "        \"session_id\": session_id,\n",
    "        \"messages\": messages\n",
    "    })\n",
    "    r.raise_for_status()\n",
    "    res = r.json()\n",
    "    print(\"✅ 총평:\")\n",
    "    print(\"👍 잘한 점:\", res[\"review\"][\"good\"])\n",
    "    print(\"⚠️ 개선할 점:\", res[\"review\"][\"bad\"])\n",
    "    print(\"💡 개선 방향:\", res[\"review\"][\"improvement\"])\n"
   ]
  },
  {
   "cell_type": "code",
   "execution_count": 37,
   "id": "dd7052f2",
   "metadata": {},
   "outputs": [
    {
     "name": "stdout",
     "output_type": "stream",
     "text": [
      "🎤 첫 질문: How would you optimize this code to improve its time complexity?\n",
      "🎯 후속 질문: 네, range 함수를 사용하면 일반적인 for 루프보다 더 효율적일 수 있습니다. 이는 range 함수가 내부적으로 반복을 처리하기 때문에, 일반적인 for 루프보다 적은 메모리와 시간을 사용할 수 있기 때문입니다. 하지만, 특정 상황에서는 일반적인 for 루프가 더 효과적일 수도 있습니다. 따라서, 사용하는 상황에 따라 적절한 방법을 선택하는 것이 중요합니다.\n",
      "🎯 후속 질문: 네, enumerate 함수를 사용하면 인덱스와 해당 값을 동시에 접근할 수 있어 코드가 더 간결해질 수 있습니다. 예를 들어:\n",
      "\n",
      "```\n",
      "for i in range(len(my_list)):\n",
      "    print(i, my_list[i])\n",
      "```\n",
      "\n",
      "위의 코드를 다음과 같이 변경할 수 있습니다:\n",
      "\n",
      "```\n",
      "for i, value in enumerate(my_list):\n",
      "    print(i, value)\n",
      "```\n",
      "\n",
      "이렇게 하면 코드가 더 간결해지고 가독성이 좋아집니다. 하지만, enumerate 함수도 내부적으로 반복을 처리하므로, 일반적인 for 루프보다 적은 메모리와 시간을 사용할 수 있습니다. 따라서, 사용하는 상황에 따라 적절한 방법을 선택하는 것이 중요합니다.\n",
      "✅ 총평:\n",
      "👍 잘한 점: [\"The candidate demonstrated a good understanding of Python's built-in functions like `range` and `enumerate`, which can lead to more efficient and readable code.\", 'The candidate was able to explain the trade-offs between using `range` and `enumerate` based on specific use cases.']\n",
      "⚠️ 개선할 점: ['The candidate did not provide any code samples or examples to demonstrate their understanding of these functions.', 'The candidate struggled to explain why `range` might be preferred over `enumerate` in certain scenarios.']\n",
      "💡 개선 방향: ['The candidate should provide concrete examples or code snippets that illustrate how they have used `range` and `enumerate` in the past.', 'The candidate could benefit from practicing more problems that involve optimizing code performance using these functions.']\n"
     ]
    }
   ],
   "source": [
    "start_interview()\n",
    "followup(\"range를 쓰면 성능상 장점이 있을까요?\")\n",
    "followup(\"enumerate로 바꾸면 코드가 더 간단하지 않을까요?\")\n",
    "end_interview()\n"
   ]
  },
  {
   "cell_type": "code",
   "execution_count": 34,
   "id": "43c04361",
   "metadata": {},
   "outputs": [],
   "source": [
    "import requests\n",
    "\n",
    "API_BASE = \"http://localhost:8000\"\n",
    "\n",
    "# 1️⃣ 솔루션 요청\n",
    "def request_solution():\n",
    "    req = {\n",
    "        \"problemNumber\": 14502,\n",
    "        \"title\": \"연구소\",\n",
    "        \"description\": (\n",
    "            \"인체에 치명적인 바이러스를 연구하던 연구소에서 바이러스가 유출되었습니다. \"\n",
    "            \"바이러스는 상하좌우로 인접한 빈 칸으로 퍼져나갈 수 있으며, 연구소의 빈 칸 중 \"\n",
    "            \"세 곳에 벽을 세워 바이러스의 확산을 막으려 합니다.\\n\\n\"\n",
    "            \"연구소는 N×M 크기의 격자로 표현되며, 각 칸은 빈 칸(0), 벽(1), 바이러스(2) 중 하나입니다. \"\n",
    "            \"벽을 정확히 3개 세운 뒤 바이러스가 퍼질 수 없는 안전 영역(0으로 남아 있는 칸)의 최대 크기를 구하십시오.\"\n",
    "        ),\n",
    "        \"input\": (\n",
    "            \"첫째 줄에 지도의 세로 크기 N과 가로 크기 M이 주어집니다. (3 ≤ N, M ≤ 8)\\n\"\n",
    "            \"둘째 줄부터 N개의 줄에 연구소의 지도 정보가 주어지며, 각 줄에 M개의 정수가 빈 칸(0), 벽(1), 바이러스(2) 중 하나로 주어집니다.\"\n",
    "        ),\n",
    "        \"output\": \"바이러스가 퍼진 이후 안전 영역의 최대 크기를 출력합니다.\",\n",
    "        \"inputExample\": (\n",
    "            \"7 7\\n\"\n",
    "            \"2 0 0 0 1 1 0\\n\"\n",
    "            \"0 0 1 0 1 2 0\\n\"\n",
    "            \"0 1 1 0 1 0 0\\n\"\n",
    "            \"0 1 0 0 0 0 0\\n\"\n",
    "            \"0 0 0 0 0 1 1\\n\"\n",
    "            \"0 1 0 0 0 0 0\\n\"\n",
    "            \"0 1 0 0 0 0 0\"\n",
    "        ),\n",
    "        \"outputExample\": \"27\"\n",
    "    }\n",
    "\n",
    "\n",
    "    r = requests.post(f\"{API_BASE}/api/ai/v1/solution\", json=req)\n",
    "    r.raise_for_status()\n",
    "    res = r.json()\n",
    "    print(\"✅ 솔루션 생성 결과\")\n",
    "    print(\"📌 문제 개요:\", res[\"problemCheck\"][\"problemDescription\"])\n",
    "    print(\"🧠 알고리즘 분류:\", res[\"problemCheck\"][\"algorithm\"])\n",
    "    print(\"💡 해결 전략:\\n\", res[\"problemSolving\"])\n",
    "    print(\"🐍 Python 코드:\\n\", res[\"solutionCode\"][\"python\"])\n",
    "    print(\"💻 C++ 코드:\\n\", res[\"solutionCode\"][\"cpp\"])\n",
    "    print(\"📝 Java 코드:\\n\", res[\"solutionCode\"][\"java\"])\n",
    "\n",
    "    return res"
   ]
  },
  {
   "cell_type": "code",
   "execution_count": 35,
   "id": "53d7df9a",
   "metadata": {},
   "outputs": [
    {
     "ename": "HTTPError",
     "evalue": "422 Client Error: Unprocessable Content for url: http://localhost:8000/api/ai/v1/solution",
     "output_type": "error",
     "traceback": [
      "\u001b[31m---------------------------------------------------------------------------\u001b[39m",
      "\u001b[31mHTTPError\u001b[39m                                 Traceback (most recent call last)",
      "\u001b[36mCell\u001b[39m\u001b[36m \u001b[39m\u001b[32mIn[35]\u001b[39m\u001b[32m, line 1\u001b[39m\n\u001b[32m----> \u001b[39m\u001b[32m1\u001b[39m \u001b[43mrequest_solution\u001b[49m\u001b[43m(\u001b[49m\u001b[43m)\u001b[49m\n",
      "\u001b[36mCell\u001b[39m\u001b[36m \u001b[39m\u001b[32mIn[34]\u001b[39m\u001b[32m, line 37\u001b[39m, in \u001b[36mrequest_solution\u001b[39m\u001b[34m()\u001b[39m\n\u001b[32m      7\u001b[39m req = {\n\u001b[32m      8\u001b[39m     \u001b[33m\"\u001b[39m\u001b[33mproblemNumber\u001b[39m\u001b[33m\"\u001b[39m: \u001b[32m14502\u001b[39m,\n\u001b[32m      9\u001b[39m     \u001b[33m\"\u001b[39m\u001b[33mtitle\u001b[39m\u001b[33m\"\u001b[39m: \u001b[33m\"\u001b[39m\u001b[33m연구소\u001b[39m\u001b[33m\"\u001b[39m,\n\u001b[32m   (...)\u001b[39m\u001b[32m     32\u001b[39m     \u001b[33m\"\u001b[39m\u001b[33moutputExample\u001b[39m\u001b[33m\"\u001b[39m: \u001b[33m\"\u001b[39m\u001b[33m27\u001b[39m\u001b[33m\"\u001b[39m\n\u001b[32m     33\u001b[39m }\n\u001b[32m     36\u001b[39m r = requests.post(\u001b[33mf\u001b[39m\u001b[33m\"\u001b[39m\u001b[38;5;132;01m{\u001b[39;00mAPI_BASE\u001b[38;5;132;01m}\u001b[39;00m\u001b[33m/api/ai/v1/solution\u001b[39m\u001b[33m\"\u001b[39m, json=req)\n\u001b[32m---> \u001b[39m\u001b[32m37\u001b[39m \u001b[43mr\u001b[49m\u001b[43m.\u001b[49m\u001b[43mraise_for_status\u001b[49m\u001b[43m(\u001b[49m\u001b[43m)\u001b[49m\n\u001b[32m     38\u001b[39m res = r.json()\n\u001b[32m     39\u001b[39m \u001b[38;5;28mprint\u001b[39m(\u001b[33m\"\u001b[39m\u001b[33m✅ 솔루션 생성 결과\u001b[39m\u001b[33m\"\u001b[39m)\n",
      "\u001b[36mFile \u001b[39m\u001b[32mc:\\Workspace\\21-iceT-ai\\venv\\Lib\\site-packages\\requests\\models.py:1024\u001b[39m, in \u001b[36mResponse.raise_for_status\u001b[39m\u001b[34m(self)\u001b[39m\n\u001b[32m   1019\u001b[39m     http_error_msg = (\n\u001b[32m   1020\u001b[39m         \u001b[33mf\u001b[39m\u001b[33m\"\u001b[39m\u001b[38;5;132;01m{\u001b[39;00m\u001b[38;5;28mself\u001b[39m.status_code\u001b[38;5;132;01m}\u001b[39;00m\u001b[33m Server Error: \u001b[39m\u001b[38;5;132;01m{\u001b[39;00mreason\u001b[38;5;132;01m}\u001b[39;00m\u001b[33m for url: \u001b[39m\u001b[38;5;132;01m{\u001b[39;00m\u001b[38;5;28mself\u001b[39m.url\u001b[38;5;132;01m}\u001b[39;00m\u001b[33m\"\u001b[39m\n\u001b[32m   1021\u001b[39m     )\n\u001b[32m   1023\u001b[39m \u001b[38;5;28;01mif\u001b[39;00m http_error_msg:\n\u001b[32m-> \u001b[39m\u001b[32m1024\u001b[39m     \u001b[38;5;28;01mraise\u001b[39;00m HTTPError(http_error_msg, response=\u001b[38;5;28mself\u001b[39m)\n",
      "\u001b[31mHTTPError\u001b[39m: 422 Client Error: Unprocessable Content for url: http://localhost:8000/api/ai/v1/solution"
     ]
    }
   ],
   "source": [
    "request_solution()"
   ]
  },
  {
   "cell_type": "code",
   "execution_count": null,
   "id": "528da60d",
   "metadata": {},
   "outputs": [],
   "source": []
  }
 ],
 "metadata": {
  "kernelspec": {
   "display_name": "venv",
   "language": "python",
   "name": "python3"
  },
  "language_info": {
   "codemirror_mode": {
    "name": "ipython",
    "version": 3
   },
   "file_extension": ".py",
   "mimetype": "text/x-python",
   "name": "python",
   "nbconvert_exporter": "python",
   "pygments_lexer": "ipython3",
   "version": "3.13.3"
  }
 },
 "nbformat": 4,
 "nbformat_minor": 5
}
